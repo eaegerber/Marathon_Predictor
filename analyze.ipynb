{
 "cells": [
  {
   "cell_type": "code",
   "execution_count": 17,
   "id": "4429ccfb",
   "metadata": {},
   "outputs": [],
   "source": [
    "import numpy as np\n",
    "import pandas as pd\n",
    "from utils import get_data, get_table, get_predictions, plot_rmse, other_stats, add_intervals_to_test, plot_interval_checks, plot_finish_groups, plot_finish_age_gender\n",
    "np.random.seed(2025)\n",
    "\n",
    "size = 125\n",
    "save_val = True\n",
    "train_yr, test_yr = [2021, 2022, 2023], [2024]\n",
    "train_bos, test_bos = get_data(racename=\"bos\", size_train=size, size_test=1000, train_lis=train_yr, test_lis=test_yr, save=save_val)\n",
    "train_nyc, test_nyc = get_data(racename=\"nyc\", size_train=size, size_test=size, train_lis=train_yr, test_lis=test_yr, save=save_val)\n",
    "train_chi, test_chi = get_data(racename=\"chi\", size_train=size, size_test=size, train_lis=train_yr, test_lis=test_yr, save=save_val)\n",
    "data = {\"bos\": (train_bos, test_bos), \"nyc\": (train_nyc, test_nyc), \"chi\": (train_chi, test_chi)}\n",
    "# test_nyc = pd.read_csv(\"processed_data/test_nyc.csv\")"
   ]
  },
  {
   "cell_type": "code",
   "execution_count": 18,
   "id": "1aa8059a",
   "metadata": {},
   "outputs": [],
   "source": [
    "race = \"bos\"\n",
    "test = test_bos\n",
    "models = [\"model1\", \"model2\", \"model3\"]\n",
    "\n",
    "\n",
    "model_info = [\n",
    "    (\"model1\", f\"stan_results/model1/params_{race}.csv\", [\"alpha\", \"total_pace\"]),\n",
    "    (\"model2\", f\"stan_results/model2/params_{race}.csv\", [\"alpha\", \"total_pace\", \"curr_pace\"]),\n",
    "    (\"model3\", f\"stan_results/model3/params_{race}.csv\", [\"alpha\", \"total_pace\", \"curr_pace\", \"male\", \"age\"]),\n",
    "]\n",
    "mpreds = {name: get_predictions(test, path, feats_lis=feats, full=False) for (name, path, feats) in model_info}\n",
    "test2 = get_table(test_bos, mpreds)"
   ]
  },
  {
   "cell_type": "code",
   "execution_count": 19,
   "id": "ece9563d",
   "metadata": {},
   "outputs": [
    {
     "name": "stdout",
     "output_type": "stream",
     "text": [
      "File saved: analysis/-_rmse_bar.png\n"
     ]
    },
    {
     "data": {
      "text/html": [
       "<div>\n",
       "<style scoped>\n",
       "    .dataframe tbody tr th:only-of-type {\n",
       "        vertical-align: middle;\n",
       "    }\n",
       "\n",
       "    .dataframe tbody tr th {\n",
       "        vertical-align: top;\n",
       "    }\n",
       "\n",
       "    .dataframe thead th {\n",
       "        text-align: right;\n",
       "    }\n",
       "</style>\n",
       "<table border=\"1\" class=\"dataframe\">\n",
       "  <thead>\n",
       "    <tr style=\"text-align: right;\">\n",
       "      <th></th>\n",
       "      <th>extrap</th>\n",
       "      <th>model1</th>\n",
       "      <th>model2</th>\n",
       "      <th>model3</th>\n",
       "      <th>pcnt_model1</th>\n",
       "      <th>pcnt_model2</th>\n",
       "      <th>pcnt_model3</th>\n",
       "    </tr>\n",
       "    <tr>\n",
       "      <th>dist</th>\n",
       "      <th></th>\n",
       "      <th></th>\n",
       "      <th></th>\n",
       "      <th></th>\n",
       "      <th></th>\n",
       "      <th></th>\n",
       "      <th></th>\n",
       "    </tr>\n",
       "  </thead>\n",
       "  <tbody>\n",
       "    <tr>\n",
       "      <th>5K</th>\n",
       "      <td>31.144609</td>\n",
       "      <td>22.104028</td>\n",
       "      <td>22.087880</td>\n",
       "      <td>21.718010</td>\n",
       "      <td>0.290278</td>\n",
       "      <td>0.290796</td>\n",
       "      <td>0.302672</td>\n",
       "    </tr>\n",
       "    <tr>\n",
       "      <th>10K</th>\n",
       "      <td>28.899760</td>\n",
       "      <td>19.759995</td>\n",
       "      <td>18.464104</td>\n",
       "      <td>18.239917</td>\n",
       "      <td>0.316257</td>\n",
       "      <td>0.361098</td>\n",
       "      <td>0.368856</td>\n",
       "    </tr>\n",
       "    <tr>\n",
       "      <th>15K</th>\n",
       "      <td>26.514288</td>\n",
       "      <td>18.212254</td>\n",
       "      <td>17.359618</td>\n",
       "      <td>17.199871</td>\n",
       "      <td>0.313115</td>\n",
       "      <td>0.345273</td>\n",
       "      <td>0.351298</td>\n",
       "    </tr>\n",
       "    <tr>\n",
       "      <th>20K</th>\n",
       "      <td>22.954247</td>\n",
       "      <td>15.935229</td>\n",
       "      <td>13.906636</td>\n",
       "      <td>13.787909</td>\n",
       "      <td>0.305783</td>\n",
       "      <td>0.394158</td>\n",
       "      <td>0.399331</td>\n",
       "    </tr>\n",
       "    <tr>\n",
       "      <th>25K</th>\n",
       "      <td>19.192217</td>\n",
       "      <td>13.402563</td>\n",
       "      <td>12.202356</td>\n",
       "      <td>12.152836</td>\n",
       "      <td>0.301667</td>\n",
       "      <td>0.364203</td>\n",
       "      <td>0.366783</td>\n",
       "    </tr>\n",
       "    <tr>\n",
       "      <th>30K</th>\n",
       "      <td>13.946247</td>\n",
       "      <td>10.495328</td>\n",
       "      <td>7.915663</td>\n",
       "      <td>7.880670</td>\n",
       "      <td>0.247444</td>\n",
       "      <td>0.432416</td>\n",
       "      <td>0.434925</td>\n",
       "    </tr>\n",
       "    <tr>\n",
       "      <th>35K</th>\n",
       "      <td>7.878522</td>\n",
       "      <td>6.707869</td>\n",
       "      <td>4.863553</td>\n",
       "      <td>4.839919</td>\n",
       "      <td>0.148588</td>\n",
       "      <td>0.382682</td>\n",
       "      <td>0.385682</td>\n",
       "    </tr>\n",
       "    <tr>\n",
       "      <th>40K</th>\n",
       "      <td>2.140023</td>\n",
       "      <td>1.959993</td>\n",
       "      <td>1.423421</td>\n",
       "      <td>1.398897</td>\n",
       "      <td>0.084125</td>\n",
       "      <td>0.334857</td>\n",
       "      <td>0.346317</td>\n",
       "    </tr>\n",
       "  </tbody>\n",
       "</table>\n",
       "</div>"
      ],
      "text/plain": [
       "         extrap     model1     model2     model3  pcnt_model1  pcnt_model2  \\\n",
       "dist                                                                         \n",
       "5K    31.144609  22.104028  22.087880  21.718010     0.290278     0.290796   \n",
       "10K   28.899760  19.759995  18.464104  18.239917     0.316257     0.361098   \n",
       "15K   26.514288  18.212254  17.359618  17.199871     0.313115     0.345273   \n",
       "20K   22.954247  15.935229  13.906636  13.787909     0.305783     0.394158   \n",
       "25K   19.192217  13.402563  12.202356  12.152836     0.301667     0.364203   \n",
       "30K   13.946247  10.495328   7.915663   7.880670     0.247444     0.432416   \n",
       "35K    7.878522   6.707869   4.863553   4.839919     0.148588     0.382682   \n",
       "40K    2.140023   1.959993   1.423421   1.398897     0.084125     0.334857   \n",
       "\n",
       "      pcnt_model3  \n",
       "dist               \n",
       "5K       0.302672  \n",
       "10K      0.368856  \n",
       "15K      0.351298  \n",
       "20K      0.399331  \n",
       "25K      0.366783  \n",
       "30K      0.434925  \n",
       "35K      0.385682  \n",
       "40K      0.346317  "
      ]
     },
     "execution_count": 19,
     "metadata": {},
     "output_type": "execute_result"
    }
   ],
   "source": [
    "plot_rmse(test2, models + [\"extrap\"], save_name=f\"-\", bar=True)"
   ]
  },
  {
   "cell_type": "code",
   "execution_count": 20,
   "id": "5b8f88e4",
   "metadata": {},
   "outputs": [
    {
     "name": "stdout",
     "output_type": "stream",
     "text": [
      "File saved: analysis/--_rmse_groups.png\n",
      "4 [0.0, 25.0, 50.0, 75.0] [18. 35. 44. 53.]\n",
      "File saved: analysis/=_rmse_gender_age.png\n"
     ]
    },
    {
     "data": {
      "text/html": [
       "<div>\n",
       "<style scoped>\n",
       "    .dataframe tbody tr th:only-of-type {\n",
       "        vertical-align: middle;\n",
       "    }\n",
       "\n",
       "    .dataframe tbody tr th {\n",
       "        vertical-align: top;\n",
       "    }\n",
       "\n",
       "    .dataframe thead th {\n",
       "        text-align: right;\n",
       "    }\n",
       "</style>\n",
       "<table border=\"1\" class=\"dataframe\">\n",
       "  <thead>\n",
       "    <tr style=\"text-align: right;\">\n",
       "      <th></th>\n",
       "      <th>model1</th>\n",
       "      <th>model2</th>\n",
       "      <th>model3</th>\n",
       "      <th>extrap</th>\n",
       "    </tr>\n",
       "  </thead>\n",
       "  <tbody>\n",
       "    <tr>\n",
       "      <th>0</th>\n",
       "      <td>15.013664</td>\n",
       "      <td>13.967748</td>\n",
       "      <td>13.808904</td>\n",
       "      <td>21.402621</td>\n",
       "    </tr>\n",
       "    <tr>\n",
       "      <th>1</th>\n",
       "      <td>0.898744</td>\n",
       "      <td>0.912360</td>\n",
       "      <td>0.914342</td>\n",
       "      <td>0.794230</td>\n",
       "    </tr>\n",
       "  </tbody>\n",
       "</table>\n",
       "</div>"
      ],
      "text/plain": [
       "      model1     model2     model3     extrap\n",
       "0  15.013664  13.967748  13.808904  21.402621\n",
       "1   0.898744   0.912360   0.914342   0.794230"
      ]
     },
     "execution_count": 20,
     "metadata": {},
     "output_type": "execute_result"
    }
   ],
   "source": [
    "plot_finish_groups(test2, label_pair=[\"extrap\", \"model2\"], num=4, overall=True, save_name=\"--\", palette=\"inferno\")\n",
    "plot_finish_age_gender(test2, label_pair=[\"extrap\", \"model2\"], num=4, overall=True, save_name='=', palette=\"crest\", grouping=\"age\")\n",
    "other_stats(test2[models + [\"extrap\"]], test2[\"finish\"])"
   ]
  },
  {
   "cell_type": "code",
   "execution_count": 21,
   "id": "5bd697c3",
   "metadata": {},
   "outputs": [
    {
     "name": "stdout",
     "output_type": "stream",
     "text": [
      "File saved: analysis/---_intervals.png\n"
     ]
    }
   ],
   "source": [
    "mpreds2 = {name: (42195 / 60) / get_predictions(test, path, feats_lis=feats, full=True) for (name, path, feats) in model_info}\n",
    "intervals_tbl = add_intervals_to_test(test2, mpreds2, models)\n",
    "i_check, i_sizes = plot_interval_checks(intervals_tbl, models, save_name=f\"---\")"
   ]
  }
 ],
 "metadata": {
  "kernelspec": {
   "display_name": "pyenv10",
   "language": "python",
   "name": "python3"
  },
  "language_info": {
   "codemirror_mode": {
    "name": "ipython",
    "version": 3
   },
   "file_extension": ".py",
   "mimetype": "text/x-python",
   "name": "python",
   "nbconvert_exporter": "python",
   "pygments_lexer": "ipython3",
   "version": "3.10.14"
  }
 },
 "nbformat": 4,
 "nbformat_minor": 5
}
